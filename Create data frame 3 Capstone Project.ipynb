{
    "cells": [
        {
            "cell_type": "markdown",
            "metadata": {},
            "source": "### Capstone Project Edward Garzon"
        },
        {
            "cell_type": "markdown",
            "metadata": {},
            "source": "### Import pandas costal code Canada and transform data"
        },
        {
            "cell_type": "code",
            "execution_count": 1,
            "metadata": {},
            "outputs": [],
            "source": "import numpy as np\nimport pandas as pd"
        },
        {
            "cell_type": "code",
            "execution_count": 55,
            "metadata": {},
            "outputs": [],
            "source": "# The code was removed by Watson Studio for sharing."
        },
        {
            "cell_type": "code",
            "execution_count": 29,
            "metadata": {},
            "outputs": [],
            "source": "df=pd.DataFrame(df_data_3.Name.str.split(';',2).tolist(), \n                         columns = ['Postal Code','Borough','Neighbourhood'])"
        },
        {
            "cell_type": "code",
            "execution_count": 52,
            "metadata": {},
            "outputs": [],
            "source": "df= df[df['Borough'] != \"Not assigned\"]"
        },
        {
            "cell_type": "code",
            "execution_count": 33,
            "metadata": {},
            "outputs": [],
            "source": "df1=df.groupby(\"Postal Code\").agg(lambda x:','.join(set(x)))"
        },
        {
            "cell_type": "code",
            "execution_count": 53,
            "metadata": {},
            "outputs": [],
            "source": "geo_data=pd.read_csv(\"https://cocl.us/Geospatial_data\")"
        },
        {
            "cell_type": "code",
            "execution_count": 54,
            "metadata": {},
            "outputs": [],
            "source": "df1['Latitude']=geo_data['Latitude'].values\ndf1['Longitude']=geo_data['Longitude'].values"
        },
        {
            "cell_type": "code",
            "execution_count": 47,
            "metadata": {},
            "outputs": [
                {
                    "name": "stdout",
                    "output_type": "stream",
                    "text": "Folium installed\nLibraries imported.\n"
                }
            ],
            "source": "import requests # library to handle requests\nimport pandas as pd # library for data analsysis\nimport numpy as np # library to handle data in a vectorized manner\nimport random # library for random number generation\n\nfrom geopy.geocoders import Nominatim # module to convert an address into latitude and longitude values\n\n# libraries for displaying images\nfrom IPython.display import Image \nfrom IPython.core.display import HTML \n    \n# tranforming json file into a pandas dataframe library\nfrom pandas.io.json import json_normalize\n\nimport folium # plotting library\n\nprint('Folium installed')\nprint('Libraries imported.')"
        },
        {
            "cell_type": "code",
            "execution_count": 48,
            "metadata": {},
            "outputs": [
                {
                    "name": "stdout",
                    "output_type": "stream",
                    "text": "Your credentails:\nCLIENT_ID: J1Z40IDNZIEGVMUQSMLERIA20YZPQAIWYSGIZHY1WT5NQY1H\nCLIENT_SECRET:EVGWNXALHD3SS4XCLUZAQWUKAYK4WA1WSXLHGJWP23FTYSXM\n"
                }
            ],
            "source": "CLIENT_ID = 'J1Z40IDNZIEGVMUQSMLERIA20YZPQAIWYSGIZHY1WT5NQY1H' # your Foursquare ID\nCLIENT_SECRET = 'EVGWNXALHD3SS4XCLUZAQWUKAYK4WA1WSXLHGJWP23FTYSXM' # your Foursquare Secret\nVERSION = '20180604'\nLIMIT = 30\nprint('Your credentails:')\nprint('CLIENT_ID: ' + CLIENT_ID)\nprint('CLIENT_SECRET:' + CLIENT_SECRET)"
        },
        {
            "cell_type": "markdown",
            "metadata": {},
            "source": "### I decide looking for a museums Near of 111 Queens Park, Toronto, CA "
        },
        {
            "cell_type": "code",
            "execution_count": 51,
            "metadata": {},
            "outputs": [
                {
                    "name": "stdout",
                    "output_type": "stream",
                    "text": "43.659659 -79.3903399\n"
                }
            ],
            "source": "address = '111 Queens Park, Toronto, CA'\n\ngeolocator = Nominatim(user_agent=\"foursquare_agent\")\nlocation = geolocator.geocode(address)\nlatitude = location.latitude\nlongitude = location.longitude\nprint(latitude, longitude)"
        },
        {
            "cell_type": "code",
            "execution_count": 56,
            "metadata": {},
            "outputs": [
                {
                    "name": "stdout",
                    "output_type": "stream",
                    "text": "Museum .... OK!\n"
                }
            ],
            "source": "search_query = 'Museum'\nradius = 500\nprint(search_query + ' .... OK!')"
        },
        {
            "cell_type": "code",
            "execution_count": 57,
            "metadata": {},
            "outputs": [
                {
                    "data": {
                        "text/plain": "'https://api.foursquare.com/v2/venues/search?client_id=J1Z40IDNZIEGVMUQSMLERIA20YZPQAIWYSGIZHY1WT5NQY1H&client_secret=EVGWNXALHD3SS4XCLUZAQWUKAYK4WA1WSXLHGJWP23FTYSXM&ll=43.659659,-79.3903399&v=20180604&query=Museum&radius=500&limit=30'"
                    },
                    "execution_count": 57,
                    "metadata": {},
                    "output_type": "execute_result"
                }
            ],
            "source": "url = 'https://api.foursquare.com/v2/venues/search?client_id={}&client_secret={}&ll={},{}&v={}&query={}&radius={}&limit={}'.format(CLIENT_ID, CLIENT_SECRET, latitude, longitude, VERSION, search_query, radius, LIMIT)\nurl"
        },
        {
            "cell_type": "code",
            "execution_count": 59,
            "metadata": {},
            "outputs": [],
            "source": "results = requests.get(url).json()"
        },
        {
            "cell_type": "code",
            "execution_count": 60,
            "metadata": {},
            "outputs": [
                {
                    "data": {
                        "text/html": "<div>\n<style scoped>\n    .dataframe tbody tr th:only-of-type {\n        vertical-align: middle;\n    }\n\n    .dataframe tbody tr th {\n        vertical-align: top;\n    }\n\n    .dataframe thead th {\n        text-align: right;\n    }\n</style>\n<table border=\"1\" class=\"dataframe\">\n  <thead>\n    <tr style=\"text-align: right;\">\n      <th></th>\n      <th>categories</th>\n      <th>hasPerk</th>\n      <th>id</th>\n      <th>location.address</th>\n      <th>location.cc</th>\n      <th>location.city</th>\n      <th>location.country</th>\n      <th>location.crossStreet</th>\n      <th>location.distance</th>\n      <th>location.formattedAddress</th>\n      <th>location.labeledLatLngs</th>\n      <th>location.lat</th>\n      <th>location.lng</th>\n      <th>location.postalCode</th>\n      <th>location.state</th>\n      <th>name</th>\n      <th>referralId</th>\n      <th>venuePage.id</th>\n    </tr>\n  </thead>\n  <tbody>\n    <tr>\n      <th>0</th>\n      <td>[{'id': '4bf58dd8d48988d18f941735', 'name': 'A...</td>\n      <td>False</td>\n      <td>4ad4c05ef964a520e2f620e3</td>\n      <td>55 Centre Avenue</td>\n      <td>CA</td>\n      <td>Toronto</td>\n      <td>Canada</td>\n      <td>University Ave. and Dundas St W.</td>\n      <td>662</td>\n      <td>[55 Centre Avenue (University Ave. and Dundas ...</td>\n      <td>[{'label': 'display', 'lat': 43.65439630500274...</td>\n      <td>43.654396</td>\n      <td>-79.386500</td>\n      <td>M5G 2H5</td>\n      <td>ON</td>\n      <td>Textile Museum of Canada</td>\n      <td>v-1595427053</td>\n      <td>56305293</td>\n    </tr>\n    <tr>\n      <th>1</th>\n      <td>[{'id': '4bf58dd8d48988d190941735', 'name': 'H...</td>\n      <td>False</td>\n      <td>4ad4c05ef964a520dcf620e3</td>\n      <td>40 College St</td>\n      <td>CA</td>\n      <td>Toronto</td>\n      <td>Canada</td>\n      <td>in Toronto Police Headquarters</td>\n      <td>484</td>\n      <td>[40 College St (in Toronto Police Headquarters...</td>\n      <td>[{'label': 'display', 'lat': 43.66118880223964...</td>\n      <td>43.661189</td>\n      <td>-79.384703</td>\n      <td>M5G 2J3</td>\n      <td>ON</td>\n      <td>Toronto Police Museum</td>\n      <td>v-1595427053</td>\n      <td>NaN</td>\n    </tr>\n  </tbody>\n</table>\n</div>",
                        "text/plain": "                                          categories  hasPerk  \\\n0  [{'id': '4bf58dd8d48988d18f941735', 'name': 'A...    False   \n1  [{'id': '4bf58dd8d48988d190941735', 'name': 'H...    False   \n\n                         id  location.address location.cc location.city  \\\n0  4ad4c05ef964a520e2f620e3  55 Centre Avenue          CA       Toronto   \n1  4ad4c05ef964a520dcf620e3     40 College St          CA       Toronto   \n\n  location.country              location.crossStreet  location.distance  \\\n0           Canada  University Ave. and Dundas St W.                662   \n1           Canada    in Toronto Police Headquarters                484   \n\n                           location.formattedAddress  \\\n0  [55 Centre Avenue (University Ave. and Dundas ...   \n1  [40 College St (in Toronto Police Headquarters...   \n\n                             location.labeledLatLngs  location.lat  \\\n0  [{'label': 'display', 'lat': 43.65439630500274...     43.654396   \n1  [{'label': 'display', 'lat': 43.66118880223964...     43.661189   \n\n   location.lng location.postalCode location.state                      name  \\\n0    -79.386500             M5G 2H5             ON  Textile Museum of Canada   \n1    -79.384703             M5G 2J3             ON     Toronto Police Museum   \n\n     referralId venuePage.id  \n0  v-1595427053     56305293  \n1  v-1595427053          NaN  "
                    },
                    "execution_count": 60,
                    "metadata": {},
                    "output_type": "execute_result"
                }
            ],
            "source": "# assign relevant part of JSON to venues\nvenues = results['response']['venues']\n\n# tranform venues into a dataframe\ndataframe = json_normalize(venues)\ndataframe.head()"
        },
        {
            "cell_type": "code",
            "execution_count": 61,
            "metadata": {},
            "outputs": [
                {
                    "data": {
                        "text/html": "<div>\n<style scoped>\n    .dataframe tbody tr th:only-of-type {\n        vertical-align: middle;\n    }\n\n    .dataframe tbody tr th {\n        vertical-align: top;\n    }\n\n    .dataframe thead th {\n        text-align: right;\n    }\n</style>\n<table border=\"1\" class=\"dataframe\">\n  <thead>\n    <tr style=\"text-align: right;\">\n      <th></th>\n      <th>name</th>\n      <th>categories</th>\n      <th>address</th>\n      <th>cc</th>\n      <th>city</th>\n      <th>country</th>\n      <th>crossStreet</th>\n      <th>distance</th>\n      <th>formattedAddress</th>\n      <th>labeledLatLngs</th>\n      <th>lat</th>\n      <th>lng</th>\n      <th>postalCode</th>\n      <th>state</th>\n      <th>id</th>\n    </tr>\n  </thead>\n  <tbody>\n    <tr>\n      <th>0</th>\n      <td>Textile Museum of Canada</td>\n      <td>Art Museum</td>\n      <td>55 Centre Avenue</td>\n      <td>CA</td>\n      <td>Toronto</td>\n      <td>Canada</td>\n      <td>University Ave. and Dundas St W.</td>\n      <td>662</td>\n      <td>[55 Centre Avenue (University Ave. and Dundas ...</td>\n      <td>[{'label': 'display', 'lat': 43.65439630500274...</td>\n      <td>43.654396</td>\n      <td>-79.386500</td>\n      <td>M5G 2H5</td>\n      <td>ON</td>\n      <td>4ad4c05ef964a520e2f620e3</td>\n    </tr>\n    <tr>\n      <th>1</th>\n      <td>Toronto Police Museum</td>\n      <td>History Museum</td>\n      <td>40 College St</td>\n      <td>CA</td>\n      <td>Toronto</td>\n      <td>Canada</td>\n      <td>in Toronto Police Headquarters</td>\n      <td>484</td>\n      <td>[40 College St (in Toronto Police Headquarters...</td>\n      <td>[{'label': 'display', 'lat': 43.66118880223964...</td>\n      <td>43.661189</td>\n      <td>-79.384703</td>\n      <td>M5G 2J3</td>\n      <td>ON</td>\n      <td>4ad4c05ef964a520dcf620e3</td>\n    </tr>\n  </tbody>\n</table>\n</div>",
                        "text/plain": "                       name      categories           address  cc     city  \\\n0  Textile Museum of Canada      Art Museum  55 Centre Avenue  CA  Toronto   \n1     Toronto Police Museum  History Museum     40 College St  CA  Toronto   \n\n  country                       crossStreet  distance  \\\n0  Canada  University Ave. and Dundas St W.       662   \n1  Canada    in Toronto Police Headquarters       484   \n\n                                    formattedAddress  \\\n0  [55 Centre Avenue (University Ave. and Dundas ...   \n1  [40 College St (in Toronto Police Headquarters...   \n\n                                      labeledLatLngs        lat        lng  \\\n0  [{'label': 'display', 'lat': 43.65439630500274...  43.654396 -79.386500   \n1  [{'label': 'display', 'lat': 43.66118880223964...  43.661189 -79.384703   \n\n  postalCode state                        id  \n0    M5G 2H5    ON  4ad4c05ef964a520e2f620e3  \n1    M5G 2J3    ON  4ad4c05ef964a520dcf620e3  "
                    },
                    "execution_count": 61,
                    "metadata": {},
                    "output_type": "execute_result"
                }
            ],
            "source": "# keep only columns that include venue name, and anything that is associated with location\nfiltered_columns = ['name', 'categories'] + [col for col in dataframe.columns if col.startswith('location.')] + ['id']\ndataframe_filtered = dataframe.loc[:, filtered_columns]\n\n# function that extracts the category of the venue\ndef get_category_type(row):\n    try:\n        categories_list = row['categories']\n    except:\n        categories_list = row['venue.categories']\n        \n    if len(categories_list) == 0:\n        return None\n    else:\n        return categories_list[0]['name']\n\n# filter the category for each row\ndataframe_filtered['categories'] = dataframe_filtered.apply(get_category_type, axis=1)\n\n# clean column names by keeping only last term\ndataframe_filtered.columns = [column.split('.')[-1] for column in dataframe_filtered.columns]\n\ndataframe_filtered"
        },
        {
            "cell_type": "code",
            "execution_count": 62,
            "metadata": {},
            "outputs": [
                {
                    "data": {
                        "text/plain": "0    Textile Museum of Canada\n1       Toronto Police Museum\nName: name, dtype: object"
                    },
                    "execution_count": 62,
                    "metadata": {},
                    "output_type": "execute_result"
                }
            ],
            "source": "dataframe_filtered.name"
        },
        {
            "cell_type": "code",
            "execution_count": 63,
            "metadata": {},
            "outputs": [
                {
                    "data": {
                        "text/html": "<div style=\"width:100%;\"><div style=\"position:relative;width:100%;height:0;padding-bottom:60%;\"><span style=\"color:#565656\">Make this Notebook Trusted to load map: File -> Trust Notebook</span><iframe src=\"about:blank\" style=\"position:absolute;width:100%;height:100%;left:0;top:0;border:none !important;\" data-html=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 onload=\"this.contentDocument.open();this.contentDocument.write(atob(this.getAttribute('data-html')));this.contentDocument.close();\" allowfullscreen webkitallowfullscreen mozallowfullscreen></iframe></div></div>",
                        "text/plain": "<folium.folium.Map at 0x7fb23558c278>"
                    },
                    "execution_count": 63,
                    "metadata": {},
                    "output_type": "execute_result"
                }
            ],
            "source": "venues_map = folium.Map(location=[latitude, longitude], zoom_start=13) # generate map centred around the Conrad Hotel\n\n# add a red circle marker to represent the Conrad Hotel\nfolium.features.CircleMarker(\n    [latitude, longitude],\n    radius=10,\n    color='red',\n    popup='Conrad Hotel',\n    fill = True,\n    fill_color = 'red',\n    fill_opacity = 0.6\n).add_to(venues_map)\n\n# add the Italian restaurants as blue circle markers\nfor lat, lng, label in zip(dataframe_filtered.lat, dataframe_filtered.lng, dataframe_filtered.categories):\n    folium.features.CircleMarker(\n        [lat, lng],\n        radius=5,\n        color='blue',\n        popup=label,\n        fill = True,\n        fill_color='blue',\n        fill_opacity=0.6\n    ).add_to(venues_map)\n\n# display map\nvenues_map"
        },
        {
            "cell_type": "code",
            "execution_count": null,
            "metadata": {},
            "outputs": [],
            "source": ""
        }
    ],
    "metadata": {
        "kernelspec": {
            "display_name": "Python 3.6",
            "language": "python",
            "name": "python3"
        },
        "language_info": {
            "codemirror_mode": {
                "name": "ipython",
                "version": 3
            },
            "file_extension": ".py",
            "mimetype": "text/x-python",
            "name": "python",
            "nbconvert_exporter": "python",
            "pygments_lexer": "ipython3",
            "version": "3.6.9"
        }
    },
    "nbformat": 4,
    "nbformat_minor": 1
}